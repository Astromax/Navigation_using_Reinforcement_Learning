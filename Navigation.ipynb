{
 "cells": [
  {
   "cell_type": "markdown",
   "metadata": {},
   "source": [
    "# Navigation\n",
    "\n",
    "---\n",
    "\n",
    "You are welcome to use this coding environment to train your agent for the project.  Follow the instructions below to get started!\n",
    "\n",
    "### 1. Start the Environment\n",
    "\n",
    "Run the next code cell to install a few packages.  This line will take a few minutes to run!"
   ]
  },
  {
   "cell_type": "code",
   "execution_count": 1,
   "metadata": {},
   "outputs": [
    {
     "name": "stdout",
     "output_type": "stream",
     "text": [
      "\u001b[31mtensorflow 1.7.1 has requirement numpy>=1.13.3, but you'll have numpy 1.12.1 which is incompatible.\u001b[0m\r\n",
      "\u001b[31mipython 6.5.0 has requirement prompt-toolkit<2.0.0,>=1.0.15, but you'll have prompt-toolkit 3.0.23 which is incompatible.\u001b[0m\r\n"
     ]
    }
   ],
   "source": [
    "!pip -q install ./python"
   ]
  },
  {
   "cell_type": "markdown",
   "metadata": {},
   "source": [
    "The environment is already saved in the Workspace and can be accessed at the file path provided below.  Please run the next code cell without making any changes."
   ]
  },
  {
   "cell_type": "code",
   "execution_count": 2,
   "metadata": {},
   "outputs": [
    {
     "name": "stderr",
     "output_type": "stream",
     "text": [
      "INFO:unityagents:\n",
      "'Academy' started successfully!\n",
      "Unity Academy name: Academy\n",
      "        Number of Brains: 1\n",
      "        Number of External Brains : 1\n",
      "        Lesson number : 0\n",
      "        Reset Parameters :\n",
      "\t\t\n",
      "Unity brain name: BananaBrain\n",
      "        Number of Visual Observations (per agent): 0\n",
      "        Vector Observation space type: continuous\n",
      "        Vector Observation space size (per agent): 37\n",
      "        Number of stacked Vector Observation: 1\n",
      "        Vector Action space type: discrete\n",
      "        Vector Action space size (per agent): 4\n",
      "        Vector Action descriptions: , , , \n"
     ]
    }
   ],
   "source": [
    "from unityagents import UnityEnvironment\n",
    "\n",
    "# please do not modify the line below\n",
    "env = UnityEnvironment(file_name=\"/data/Banana_Linux_NoVis/Banana.x86_64\")"
   ]
  },
  {
   "cell_type": "code",
   "execution_count": 3,
   "metadata": {},
   "outputs": [],
   "source": [
    "#Import everything else\n",
    "from collections import deque\n",
    "from collections import namedtuple\n",
    "\n",
    "from math import log\n",
    "import matplotlib.pyplot as plt\n",
    "\n",
    "from navagents import BaseAgent\n",
    "from navagents import DuelingAgent\n",
    "from navagents import DuelingPriorityAgent\n",
    "from navagents import OldAgent\n",
    "from navagents import PriorityAgent\n",
    "import numpy as np\n",
    "\n",
    "import pandas as pd\n",
    "\n",
    "from qnetworks import BaseQNetwork\n",
    "from qnetworks import DuelingQNetwork\n",
    "from qnetworks import OldQNetwork\n",
    "\n",
    "import random\n",
    "from replays import PrioritizedExperienceReplay\n",
    "from replays import ReplayBuffer \n",
    "\n",
    "import time\n",
    "import torch\n",
    "import torch.nn as nn\n",
    "import torch.nn.functional as F\n",
    "import torch.optim as optim"
   ]
  },
  {
   "cell_type": "markdown",
   "metadata": {},
   "source": [
    "Environments contain **_brains_** which are responsible for deciding the actions of their associated agents. Here we check for the first brain available, and set it as the default brain we will be controlling from Python."
   ]
  },
  {
   "cell_type": "code",
   "execution_count": 4,
   "metadata": {},
   "outputs": [],
   "source": [
    "# get the default brain\n",
    "brain_name = env.brain_names[0]\n",
    "brain = env.brains[brain_name]"
   ]
  },
  {
   "cell_type": "markdown",
   "metadata": {},
   "source": [
    "### 2. Examine the State and Action Spaces\n",
    "\n",
    "Run the code cell below to print some information about the environment."
   ]
  },
  {
   "cell_type": "code",
   "execution_count": 5,
   "metadata": {},
   "outputs": [
    {
     "name": "stdout",
     "output_type": "stream",
     "text": [
      "Number of agents: 1\n",
      "Number of actions: 4\n",
      "States look like: [ 1.          0.          0.          0.          0.84408134  0.          0.\n",
      "  1.          0.          0.0748472   0.          1.          0.          0.\n",
      "  0.25755     1.          0.          0.          0.          0.74177343\n",
      "  0.          1.          0.          0.          0.25854847  0.          0.\n",
      "  1.          0.          0.09355672  0.          1.          0.          0.\n",
      "  0.31969345  0.          0.        ]\n",
      "States have length: 37\n"
     ]
    }
   ],
   "source": [
    "# reset the environment\n",
    "env_info = env.reset(train_mode=True)[brain_name]\n",
    "\n",
    "# number of agents in the environment\n",
    "print('Number of agents:', len(env_info.agents))\n",
    "\n",
    "# number of actions\n",
    "action_size = brain.vector_action_space_size\n",
    "print('Number of actions:', action_size)\n",
    "\n",
    "# examine the state space \n",
    "state = env_info.vector_observations[0]\n",
    "print('States look like:', state)\n",
    "state_size = len(state)\n",
    "print('States have length:', state_size)"
   ]
  },
  {
   "cell_type": "markdown",
   "metadata": {},
   "source": [
    "### 3. It's Your Turn!\n",
    "\n",
    "Now it's your turn to train your own agent to solve the environment!  A few **important notes**:\n",
    "- When training the environment, set `train_mode=True`, so that the line for resetting the environment looks like the following:\n",
    "```python\n",
    "env_info = env.reset(train_mode=True)[brain_name]\n",
    "```\n",
    "- To structure your work, you're welcome to work directly in this Jupyter notebook, or you might like to start over with a new file!  You can see the list of files in the workspace by clicking on **_Jupyter_** in the top left corner of the notebook.\n",
    "- In this coding environment, you will not be able to watch the agent while it is training.  However, **_after training the agent_**, you can download the saved model weights to watch the agent on your own machine! "
   ]
  },
  {
   "cell_type": "markdown",
   "metadata": {},
   "source": [
    "## Training Loop\n",
    "Every model needs a training loop.  Some frameworks, like Keras, bury it under a simple API so all one has to do is enter model.fit(), but PyTorch requires one to build the training loop oneself.  This has the disadvantage of being innately more difficult, but is ultimately more powerful as it gives one more control over how training proceeds."
   ]
  },
  {
   "cell_type": "code",
   "execution_count": 6,
   "metadata": {},
   "outputs": [],
   "source": [
    "def train(agent, num_episodes: int, init_epsilon: float=1.0) -> list:\n",
    "    \n",
    "    scores = []\n",
    "    scores_window = deque(maxlen=100)\n",
    "    for i_episode in range(num_episodes):\n",
    "        env_info = env.reset(train_mode=True)[brain_name] #Reset environment for new episode\n",
    "        state = env_info.vector_observations[0]           #Get current state\n",
    "        score = 0\n",
    "        \n",
    "        eps = init_epsilon/(i_episode + 1)                #Exploration parameter, harmonic decay\n",
    "    \n",
    "        score = 0\n",
    "        while True:\n",
    "            action = agent.act(state, eps)                   #Agent takes an action\n",
    "            env_info = env.step(action)[brain_name]          #Environment responds to Agent's action\n",
    "            next_state = env_info.vector_observations[0]     #Get to next state\n",
    "            reward = env_info.rewards[0]                     #Get the reward\n",
    "            done = env_info.local_done[0]                    #Is the episode done?\n",
    "            score += reward                                  #Update the score\n",
    "            agent.step(state,action,reward,next_state,done)  #Agent takes a step, storing memory, learning, etc\n",
    "            state = next_state                               #Update state\n",
    "            if done:\n",
    "                break\n",
    "                \n",
    "        scores_window.append(score)\n",
    "        scores.append(score)\n",
    "        print('\\rEpisode {}\\tAverage Score: {:.2f}'.format(i_episode, np.mean(scores_window)), end=\"\")\n",
    "        if i_episode % 100 == 0:\n",
    "            print('\\rEpisode {}\\tAverage Score: {:.2f}'.format(i_episode, np.mean(scores_window)))\n",
    "            \n",
    "    return scores\n",
    "    "
   ]
  },
  {
   "cell_type": "markdown",
   "metadata": {},
   "source": [
    "# Plotting Tool\n",
    "The results will be much more easily visualized with plots.  This is being set here in the code so that the model results can be displayed sequentially, as opposed to having it after the model definitions which would require skipping ahead to run it then doubling back to make the plots."
   ]
  },
  {
   "cell_type": "code",
   "execution_count": 7,
   "metadata": {},
   "outputs": [],
   "source": [
    "def generate_plot(name: str, mode: str, scores: list, window: int) -> None:\n",
    "    firstpass = np.where(np.array(scores) > 13.0)[0][0]\n",
    "    print(f'First pass in Episode: {firstpass}')\n",
    "    score_series = pd.Series(scores)\n",
    "    windows = score_series.rolling(window)\n",
    "    smoothedscores = windows.mean()\n",
    "    firstave = np.where(np.array(smoothedscores) > 13.0)[0][0]\n",
    "    print(f'First full pass in Episode: {firstave}')\n",
    "    maxave = np.max(smoothedscores)\n",
    "    maxind = smoothedscores.idxmax()\n",
    "    print(f'Maximum Average Score: {maxave}')\n",
    "    print(f'Maximum Episode Index: {maxind}')\n",
    "    \n",
    "    plt.plot(smoothedscores)\n",
    "    plt.axvline(x=firstave)\n",
    "    plt.axhline(y=13.0)\n",
    "    plt.title(f'{name} with {mode} Experience Replay Average Scores')\n",
    "    plt.xlabel('Episode')\n",
    "    plt.ylabel(f'Average Score over {window} Episodes')\n",
    "    plt.savefig(f'{name}_{mode}_Averages.png')\n",
    "    return"
   ]
  },
  {
   "cell_type": "markdown",
   "metadata": {},
   "source": [
    "# # Declare the Globals\n",
    "The next cell establishes some global parameters for use throughout this project."
   ]
  },
  {
   "cell_type": "code",
   "execution_count": 10,
   "metadata": {},
   "outputs": [],
   "source": [
    "#Establish some important global parameters\n",
    "ALPHA = 0.5             #Blending term for prioritized experience replay, [0,1], 0 = pure uniform distribution, 1 = no uniform\n",
    "BETA = 1.0              #Exponent for importance sampling weight\n",
    "BUFFER_SIZE = int(1e5)  # replay buffer size\n",
    "BATCH_SIZE = 64         # minibatch size\n",
    "GAMMA = 0.99            # discount factor\n",
    "LR = 5e-4               # learning rate\n",
    "seed = 37               # random seed\n",
    "TAU = 1e-3              # for soft update of target parameters\n",
    "UPDATE_EVERY = 4        # how often to update the network\n",
    "WINDOW_SIZE = 100       # window size for moving average\n",
    "\n",
    "\n",
    "device = torch.device(\"cuda:0\" if torch.cuda.is_available() else \"cpu\")"
   ]
  },
  {
   "cell_type": "code",
   "execution_count": 11,
   "metadata": {},
   "outputs": [],
   "source": [
    "basehypers = {'BATCH_SIZE': BATCH_SIZE, 'BUFFER_SIZE': BUFFER_SIZE, \n",
    "              'GAMMA': GAMMA, 'LR': LR, 'TAU': TAU, 'UPDATE_EVERY': UPDATE_EVERY}"
   ]
  },
  {
   "cell_type": "code",
   "execution_count": 10,
   "metadata": {},
   "outputs": [],
   "source": [
    "old_agent = OldAgent(state_size, action_size, seed, basehypers, device)"
   ]
  },
  {
   "cell_type": "code",
   "execution_count": 11,
   "metadata": {},
   "outputs": [
    {
     "name": "stdout",
     "output_type": "stream",
     "text": [
      "Episode 0\tAverage Score: 0.00\n",
      "Episode 100\tAverage Score: 3.38\n",
      "Episode 200\tAverage Score: 8.77\n",
      "Episode 300\tAverage Score: 11.38\n",
      "Episode 400\tAverage Score: 13.58\n",
      "Episode 500\tAverage Score: 15.47\n",
      "Episode 600\tAverage Score: 16.12\n",
      "Episode 700\tAverage Score: 16.58\n",
      "Episode 800\tAverage Score: 16.10\n",
      "Episode 900\tAverage Score: 15.92\n",
      "Episode 1000\tAverage Score: 15.67\n",
      "Old Agent elapsed time:  1249.031\n"
     ]
    }
   ],
   "source": [
    "start_old = time.perf_counter()\n",
    "oldagentscores = train(old_agent, 1001, 1.0)\n",
    "torch.save(old_agent.qnetwork_primary.state_dict(), 'old_agent_checkpoint.pth')\n",
    "elapsed_old = time.perf_counter() - start_old\n",
    "print(f'Old Agent elapsed time: {elapsed_old: .3f}')"
   ]
  },
  {
   "cell_type": "code",
   "execution_count": 33,
   "metadata": {},
   "outputs": [
    {
     "name": "stdout",
     "output_type": "stream",
     "text": [
      "First pass in Episode: 56\n",
      "First full pass in Episode: 359\n",
      "Maximum Average Score: 16.83\n",
      "Maximum Episode Index: 720\n"
     ]
    },
    {
     "name": "stderr",
     "output_type": "stream",
     "text": [
      "/opt/conda/lib/python3.6/site-packages/ipykernel_launcher.py:7: RuntimeWarning: invalid value encountered in greater\n",
      "  import sys\n"
     ]
    },
    {
     "data": {
      "image/png": "[encoded data removed]",
      "text/plain": [
       "<matplotlib.figure.Figure at 0x7fbed1ca4080>"
      ]
     },
     "metadata": {
      "needs_background": "light"
     },
     "output_type": "display_data"
    }
   ],
   "source": [
    "generate_plot('Old_Agent', 'Uniform', oldagentscores, WINDOW_SIZE)"
   ]
  },
  {
   "cell_type": "code",
   "execution_count": 19,
   "metadata": {},
   "outputs": [],
   "source": [
    "base_agent = BaseAgent(state_size, action_size, seed, basehypers, device)"
   ]
  },
  {
   "cell_type": "code",
   "execution_count": 20,
   "metadata": {},
   "outputs": [
    {
     "name": "stdout",
     "output_type": "stream",
     "text": [
      "Episode 0\tAverage Score: 1.00\n",
      "Episode 100\tAverage Score: 2.79\n",
      "Episode 200\tAverage Score: 8.25\n",
      "Episode 300\tAverage Score: 11.83\n",
      "Episode 400\tAverage Score: 14.10\n",
      "Episode 500\tAverage Score: 15.70\n",
      "Episode 600\tAverage Score: 15.48\n",
      "Episode 700\tAverage Score: 15.22\n",
      "Episode 800\tAverage Score: 16.33\n",
      "Episode 900\tAverage Score: 16.30\n",
      "Episode 1000\tAverage Score: 16.95\n",
      "Base Agent Elapsed Time:  1318.864\n"
     ]
    }
   ],
   "source": [
    "start_base = time.perf_counter()\n",
    "baseagentscores = train(base_agent, 1001, 1.0)\n",
    "torch.save(base_agent.qnetwork_primary.state_dict(), 'base_agent_checkpoint.pth')\n",
    "elapsed_base = time.perf_counter() - start_base\n",
    "print(f'Base Agent Elapsed Time: {elapsed_base: .3f}')"
   ]
  },
  {
   "cell_type": "code",
   "execution_count": 34,
   "metadata": {},
   "outputs": [
    {
     "name": "stdout",
     "output_type": "stream",
     "text": [
      "First pass in Episode: 98\n",
      "First full pass in Episode: 331\n",
      "Maximum Average Score: 17.18\n",
      "Maximum Episode Index: 973\n"
     ]
    },
    {
     "name": "stderr",
     "output_type": "stream",
     "text": [
      "/opt/conda/lib/python3.6/site-packages/ipykernel_launcher.py:7: RuntimeWarning: invalid value encountered in greater\n",
      "  import sys\n"
     ]
    },
    {
     "data": {
      "image/png": "[encoded data removed]",
      "text/plain": [
       "<matplotlib.figure.Figure at 0x7fbefe54ba20>"
      ]
     },
     "metadata": {
      "needs_background": "light"
     },
     "output_type": "display_data"
    }
   ],
   "source": [
    "generate_plot('Base_Agent', 'Uniform', baseagentscores, WINDOW_SIZE)"
   ]
  },
  {
   "cell_type": "code",
   "execution_count": 12,
   "metadata": {},
   "outputs": [],
   "source": [
    "dueling_agent = DuelingAgent(state_size, action_size, seed, basehypers, device)"
   ]
  },
  {
   "cell_type": "code",
   "execution_count": 13,
   "metadata": {},
   "outputs": [
    {
     "name": "stdout",
     "output_type": "stream",
     "text": [
      "Episode 0\tAverage Score: 0.00\n",
      "Episode 100\tAverage Score: 2.12\n",
      "Episode 200\tAverage Score: 6.92\n",
      "Episode 300\tAverage Score: 10.60\n",
      "Episode 400\tAverage Score: 12.45\n",
      "Episode 500\tAverage Score: 16.25\n",
      "Episode 600\tAverage Score: 15.67\n",
      "Episode 700\tAverage Score: 16.50\n",
      "Episode 800\tAverage Score: 16.22\n",
      "Episode 900\tAverage Score: 17.22\n",
      "Episode 1000\tAverage Score: 16.86\n",
      "Dueling Agent Elapsed Time:  1396.251\n"
     ]
    }
   ],
   "source": [
    "start_duel = time.perf_counter()\n",
    "duelingagentscores = train(dueling_agent, 1001, 1.0)\n",
    "torch.save(dueling_agent.qnetwork_primary.state_dict(), 'dueling_agent_checkpoint.pth')\n",
    "elapsed_duel = time.perf_counter() - start_duel\n",
    "print(f'Dueling Agent Elapsed Time: {elapsed_duel: .3f}')"
   ]
  },
  {
   "cell_type": "code",
   "execution_count": 37,
   "metadata": {},
   "outputs": [
    {
     "name": "stdout",
     "output_type": "stream",
     "text": [
      "First pass in Episode: 91\n",
      "First full pass in Episode: 338\n",
      "Maximum Average Score: 17.45\n",
      "Maximum Episode Index: 724\n"
     ]
    },
    {
     "name": "stderr",
     "output_type": "stream",
     "text": [
      "/opt/conda/lib/python3.6/site-packages/ipykernel_launcher.py:7: RuntimeWarning: invalid value encountered in greater\n",
      "  import sys\n"
     ]
    },
    {
     "data": {
      "image/png": "[encoded data removed]",
      "text/plain": [
       "<matplotlib.figure.Figure at 0x7fbed1d2ec18>"
      ]
     },
     "metadata": {
      "needs_background": "light"
     },
     "output_type": "display_data"
    }
   ],
   "source": [
    "generate_plot('Dueling_Agent', 'Uniform', duelingagentscores, WINDOW_SIZE)"
   ]
  },
  {
   "cell_type": "code",
   "execution_count": 9,
   "metadata": {},
   "outputs": [],
   "source": [
    "priorityhypers = {'ALPHA': ALPHA, 'BETA': BETA, 'BATCH_SIZE': BATCH_SIZE, 'BUFFER_SIZE': BUFFER_SIZE, \n",
    "                  'GAMMA': GAMMA, 'LR': LR, 'TAU': TAU, 'UPDATE_EVERY': UPDATE_EVERY}"
   ]
  },
  {
   "cell_type": "code",
   "execution_count": 10,
   "metadata": {},
   "outputs": [],
   "source": [
    "priority_agent = PriorityAgent(state_size, action_size, seed, priorityhypers, device)"
   ]
  },
  {
   "cell_type": "code",
   "execution_count": null,
   "metadata": {},
   "outputs": [
    {
     "name": "stdout",
     "output_type": "stream",
     "text": [
      "Episode 0\tAverage Score: 0.00\n",
      "Episode 100\tAverage Score: 3.42\n",
      "Episode 148\tAverage Score: 4.34"
     ]
    }
   ],
   "source": [
    "start_priority = time.perf_counter()\n",
    "priorityagentscores = train(priority_agent, 1001, 1.0)\n",
    "torch.save(priority_agent.qnetwork_primary.state_dict(), 'priority_agent_checkpoint.pth')\n",
    "elapsed_priority = time.perf_counter() - start_priority\n",
    "print(f'Priority Agent Elapsed Time: {elapsed_priority: .3f}')"
   ]
  },
  {
   "cell_type": "code",
   "execution_count": null,
   "metadata": {},
   "outputs": [],
   "source": [
    "generate_plot('Base_Agent', 'Prioritized', priorityagentscores, WINDOW_SIZE)"
   ]
  },
  {
   "cell_type": "code",
   "execution_count": null,
   "metadata": {},
   "outputs": [],
   "source": [
    "dueling_priority_agent = DuelingPriorityAgent(state_size, action_size, seed, priorityhypers, device)"
   ]
  },
  {
   "cell_type": "code",
   "execution_count": null,
   "metadata": {},
   "outputs": [],
   "source": [
    "start_DPA = time.perf_counter()\n",
    "DPA_scores = train(dueling_priority_agent, 1001, 1.0)\n",
    "torch.save(dueling_priority_agent.qnetwork_primary.state_dict(), 'dueling_priority_agent_checkpoint.pth')\n",
    "elapsed_DPA = time.perf_counter() - start_DPA\n",
    "print(f'Dueling Priority Agent Elapsed Time: {elapsed_DPA: .3f}')"
   ]
  },
  {
   "cell_type": "code",
   "execution_count": null,
   "metadata": {},
   "outputs": [],
   "source": [
    "generate_plot('Dueling_Agent', 'Prioritized', DPA_scores, WINDOW_SIZE)"
   ]
  },
  {
   "cell_type": "code",
   "execution_count": null,
   "metadata": {},
   "outputs": [],
   "source": [
    "#Politely close the environment when we are done\n",
    "env.close()"
   ]
  }
 ],
 "metadata": {
  "kernelspec": {
   "display_name": "Python 3",
   "language": "python",
   "name": "python3"
  },
  "language_info": {
   "codemirror_mode": {
    "name": "ipython",
    "version": 3
   },
   "file_extension": ".py",
   "mimetype": "text/x-python",
   "name": "python",
   "nbconvert_exporter": "python",
   "pygments_lexer": "ipython3",
   "version": "3.6.3"
  }
 },
 "nbformat": 4,
 "nbformat_minor": 2
}
